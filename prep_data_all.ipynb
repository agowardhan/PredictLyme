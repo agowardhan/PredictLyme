{
 "cells": [
  {
   "cell_type": "raw",
   "metadata": {},
   "source": [
    "census - look at rural vs census data"
   ]
  },
  {
   "cell_type": "raw",
   "metadata": {},
   "source": [
    "File format needed for the data: \n",
    "\n",
    "   for bin in BINS:\n",
    "        geo_layer = dict(\n",
    "            sourcetype = 'geojson',\n",
    "            source = base_url + str(year) + '/' + bin + '.geojson',\n",
    "            type = 'fill',\n",
    "            color = cm[bin],\n",
    "            opacity = DEFAULT_OPACITY\n",
    "        )\n",
    "\n",
    "    filenames : \n",
    "   0-2.geojson     12.1-14.geojson 16.1-18.geojson 2.1-4.geojson   22.1-24.geojson 26.1-28.geojson 4.1-6.geojson   8.1-10.geojson  10.1-12.geojson 14.1-16.geojson 18.1-20.geojson 20.1-22.geojson 24.1-26.geojson 28.1-30.geojson 6.1-8.geojson   >30.geojson\n",
    "   \n",
    "   BINS = ['0-2', '2.1-4', '4.1-6', '6.1-8', '8.1-10', '10.1-12', '12.1-14', \\\n",
    "        '14.1-16', '16.1-18', '18.1-20', '20.1-22', '22.1-24',  '24.1-26', \\\n",
    "        '26.1-28', '28.1-30', '>30']     \n",
    "        in 0-2.geojson \n",
    "        \n",
    "{\n",
    "\"type\": \"FeatureCollection\",\n",
    "\"crs\": { \"type\": \"name\", \"properties\": { \"name\": \"urn:ogc:def:crs:OGC:1.3:CRS84\" } },\n",
    "\"features\": [\n",
    "{ \"type\": \"Feature\",\n",
    "    \"properties\": { \"id\": \"48443\", \n",
    "                    \"name\": \"Terrell\", \n",
    "                    \"FIPS\": \"48443\", \n",
    "                    \"Year\": 2011, \n",
    "                    \"State\": \"Texas\", \n",
    "                    \"ST\": \"TX\", \n",
    "                    \"FIPS State\": 48, \n",
    "                    \"County\": \"Terrell County, TX\", \n",
    "                    \"Population\": 949.0, \n",
    "                    \"Estimated Age-adjusted Death Rate, 16 Categories (in ranges)\": \"0-2\" }, \n",
    "                    \"geometry\": { \"type\": \"Polygon\", \n",
    "                    \"coordinates\": [ [ [ -102.56876, 30.050025 ], [ -102.344205, 30.597719 ], [ -101.769126, 30.652489 ], [ -101.758173, 30.285534 ], [ -101.76365, 29.781655 ], [ -102.322297, 29.88024 ], [ -102.56876, 30.050025 ] ] ] \n",
    "                    } \n",
    "                  }\n",
    "        ]\n",
    "}\n"
   ]
  },
  {
   "cell_type": "code",
   "execution_count": 1,
   "metadata": {},
   "outputs": [],
   "source": [
    "import numpy as np \n",
    "import pandas as pd \n",
    "import json \n",
    "\n",
    "import sys\n",
    "import re "
   ]
  },
  {
   "cell_type": "code",
   "execution_count": 2,
   "metadata": {},
   "outputs": [],
   "source": [
    "df = pd.read_csv('alldata.csv')\n",
    "dtemp = df[['FIPS', 'Ctyname', 'Stname', 'STCODE', 'CTYCODE', 'geometry','Cases', 'YR', 'TOT_POP','Cases_norm']]\n",
    "list_val_states = ['New York', 'Massachusetts', 'Pennsylvania', 'Connecticut', 'Michigan', 'Maine', 'New Hampshire', 'Vermont']\n",
    "d1 = dtemp[dtemp['Stname'].isin(list_val_states)]"
   ]
  },
  {
   "cell_type": "code",
   "execution_count": 3,
   "metadata": {},
   "outputs": [],
   "source": [
    "bad_chars = '(){}<>ABCDEFGHIJKLMNOPQRSTUVWXYZ'"
   ]
  },
  {
   "cell_type": "code",
   "execution_count": 4,
   "metadata": {},
   "outputs": [],
   "source": [
    "def default(o):\n",
    "    if isinstance(o, np.int64): return int(o)  \n",
    "    raise TypeError"
   ]
  },
  {
   "cell_type": "code",
   "execution_count": 7,
   "metadata": {},
   "outputs": [
    {
     "name": "stdout",
     "output_type": "stream",
     "text": [
      "#00004c\n",
      "#0000b2\n",
      "#2424ff\n",
      "#b6b6ff\n",
      "#ffb6b6\n",
      "#ff2424\n",
      "#c80000\n",
      "#800000\n"
     ]
    }
   ],
   "source": [
    "from pylab import *\n",
    "\n",
    "bins = [[10,50], [50,100], [100,200], [200,300], [300,500], [500,700], [700,1000], [1000,2000]]\n",
    "BINS = [str(binn[0])+'-'+str(binn[1]) for binn in bins]\n",
    "YEARS = [2000,2001,2002,2003,2004,2005,2006,2007,2008,2009,2010,2011,2012,2013,2014,2015]\n",
    "\n",
    "\n",
    "cmap = cm.get_cmap('seismic', len(bins))    # PiYG\n",
    "\n",
    "for i in range(cmap.N):\n",
    "    rgb = cmap(i)[:3] # will return rgba, we take only first 3 so we get rgb\n",
    "    print(matplotlib.colors.rgb2hex(rgb))"
   ]
  },
  {
   "cell_type": "code",
   "execution_count": 116,
   "metadata": {},
   "outputs": [
    {
     "name": "stderr",
     "output_type": "stream",
     "text": [
      "/Users/avani/anaconda3/lib/python3.6/site-packages/ipykernel_launcher.py:10: SettingWithCopyWarning: \n",
      "A value is trying to be set on a copy of a slice from a DataFrame.\n",
      "Try using .loc[row_indexer,col_indexer] = value instead\n",
      "\n",
      "See the caveats in the documentation: http://pandas.pydata.org/pandas-docs/stable/indexing.html#indexing-view-versus-copy\n",
      "  # Remove the CWD from sys.path while we load stuff.\n",
      "/Users/avani/anaconda3/lib/python3.6/site-packages/ipykernel_launcher.py:11: SettingWithCopyWarning: \n",
      "A value is trying to be set on a copy of a slice from a DataFrame.\n",
      "Try using .loc[row_indexer,col_indexer] = value instead\n",
      "\n",
      "See the caveats in the documentation: http://pandas.pydata.org/pandas-docs/stable/indexing.html#indexing-view-versus-copy\n",
      "  # This is added back by InteractiveShellApp.init_path()\n",
      "/Users/avani/anaconda3/lib/python3.6/site-packages/ipykernel_launcher.py:12: SettingWithCopyWarning: \n",
      "A value is trying to be set on a copy of a slice from a DataFrame.\n",
      "Try using .loc[row_indexer,col_indexer] = value instead\n",
      "\n",
      "See the caveats in the documentation: http://pandas.pydata.org/pandas-docs/stable/indexing.html#indexing-view-versus-copy\n",
      "  if sys.path[0] == '':\n"
     ]
    }
   ],
   "source": [
    "\n",
    "for year in YEARS:\n",
    "    ddf= d1[d1['YR']==year]\n",
    "    for k in range(len(bins)):\n",
    "        binn = bins[k]\n",
    "        dddf = ddf[(ddf['Cases'] > binn[0]) & (ddf['Cases'] < binn[1])]\n",
    "        dddf['coords_srt'] = dddf['geometry'].apply(lambda x: x.strip('POLYGON (('))\n",
    "        dddf['coords_srt_temp'] = dddf['coords_srt'].apply(lambda x: x.strip('MULTIPOLYGON ((').strip('').split(','))\n",
    "        dddf['coords_flt'] = dddf['coords_srt_temp'].apply(lambda x: [[float(y.strip('))').strip('((')) for y in xx.strip(' ').split(' ')] for xx in x])\n",
    "        \n",
    "        geo_json = [ { \"type\": \"Feature\",\n",
    "                        \"properties\": { \"id\": dddf.FIPS.values[i], \n",
    "                                    \"name\": dddf.Stname.values[i],\n",
    "                                    \"FIPS\": dddf.FIPS.values[i], \n",
    "                                    \"Year\": year,\n",
    "                                    \"State\": dddf.Stname.values[i], \n",
    "                                    \"ST\":  dddf.Stname.values[i],\n",
    "                                    \"FIPS State\": dddf.STCODE.values[i], \n",
    "                                    \"County\": dddf.Ctyname.values[i] + ', ' +dddf.Stname.values[i],\n",
    "                                    \"Population\": dddf.TOT_POP.values[i], \n",
    "                                    \"Cases\":  dddf.Cases.values[i] #str(binn[0][0])+'-'+binn[0][1]\n",
    "                                }, \n",
    "               \"geometry\": {   \"type\": \"Polygon\", \n",
    "                                        \"coordinates\": [[dddf['coords_flt'].values[i][j] for j in range(len(dddf['coords_flt'].values[i]))]]\n",
    "                                } \n",
    "                    }  for i in range(len(dddf))] \n",
    "        \n",
    "        old_out = sys.stdout\n",
    "        sys.stdout = open('./app/'+str(year)+'/'+str(BINS[k]) + '.geojson', 'w')\n",
    "        print(\"{\")\n",
    "        print(\"\\\"type\\\": \\\"FeatureCollection\\\",\")\n",
    "        print(\"\\\"crs\\\": { \\\"type\\\": \\\"name\\\", \\\"properties\\\": { \\\"name\\\": \\\"urn:ogc:def:crs:OGC:1.3:CRS84\\\" } },\")\n",
    "        print(\" \\\"features\\\": [\")\n",
    "        for ll in range(len(geo_json)):\n",
    "            ele = geo_json[ll]\n",
    "            if ll < len(geo_json) -1: \n",
    "                print(json.dumps(ele, default=default), ',') #json.dumps({'value': numpy.int64(42)}, )\n",
    "            else:\n",
    "                 print(json.dumps(ele,default=default))\n",
    "        print(\"        ]} \")\n",
    "        old_out = sys.stdout"
   ]
  },
  {
   "cell_type": "code",
   "execution_count": 183,
   "metadata": {},
   "outputs": [],
   "source": [
    "\n",
    "PATH = '/Users/avani/Dropbox/Work/dataScience/Insight/dash-opioid-epidemic-demo/'\n",
    "df_lat_lon = pd.read_csv(PATH+'lat_lon_counties.csv')\n",
    "df_lat_lon['FIPS '] = df_lat_lon['FIPS '].apply(lambda x: str(x).zfill(5))\n",
    "\n",
    "df_full_data = pd.read_csv(PATH+'age_adjusted_death_rate_no_quotes.csv')\n",
    "df_full_data['County Code'] = df_full_data['County Code'].apply(lambda x: str(x).zfill(5))\n",
    "df_full_data['County'] = df_full_data['Unnamed: 0'] + \", \" + df_full_data.County.map(str)\n"
   ]
  },
  {
   "cell_type": "code",
   "execution_count": null,
   "metadata": {},
   "outputs": [],
   "source": [
    "bins = [[0,10], [10,50], [50,100], [100,200], [200,300], [300,500], [500,700], [700,1000],  [1000,2000]]"
   ]
  },
  {
   "cell_type": "code",
   "execution_count": 118,
   "metadata": {},
   "outputs": [],
   "source": []
  },
  {
   "cell_type": "code",
   "execution_count": 161,
   "metadata": {},
   "outputs": [],
   "source": []
  },
  {
   "cell_type": "code",
   "execution_count": 162,
   "metadata": {},
   "outputs": [
    {
     "data": {
      "text/plain": [
       "['0-10',\n",
       " '10-50',\n",
       " '50-100',\n",
       " '100-200',\n",
       " '200-300',\n",
       " '300-500',\n",
       " '500-700',\n",
       " '700-1000',\n",
       " '1000-2000']"
      ]
     },
     "execution_count": 162,
     "metadata": {},
     "output_type": "execute_result"
    }
   ],
   "source": [
    "BINS"
   ]
  },
  {
   "cell_type": "code",
   "execution_count": 25,
   "metadata": {},
   "outputs": [],
   "source": [
    "bins = [[0,10], [10,50], [50,100], [100,200], [200,300], [300,500], [500,700], [700,1000],  [1000,2000]]\n",
    "binn = bins[0]\n",
    "ddf= d1[d1['YR']==year]\n"
   ]
  },
  {
   "cell_type": "code",
   "execution_count": 26,
   "metadata": {},
   "outputs": [
    {
     "data": {
      "text/plain": [
       "558"
      ]
     },
     "execution_count": 26,
     "metadata": {},
     "output_type": "execute_result"
    }
   ],
   "source": [
    "len(dddf)"
   ]
  },
  {
   "cell_type": "code",
   "execution_count": null,
   "metadata": {},
   "outputs": [],
   "source": []
  }
 ],
 "metadata": {
  "kernelspec": {
   "display_name": "Python 3",
   "language": "python",
   "name": "python3"
  },
  "language_info": {
   "codemirror_mode": {
    "name": "ipython",
    "version": 3
   },
   "file_extension": ".py",
   "mimetype": "text/x-python",
   "name": "python",
   "nbconvert_exporter": "python",
   "pygments_lexer": "ipython3",
   "version": "3.6.6"
  }
 },
 "nbformat": 4,
 "nbformat_minor": 2
}
