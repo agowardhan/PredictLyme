{
 "cells": [
  {
   "cell_type": "code",
   "execution_count": 224,
   "metadata": {},
   "outputs": [],
   "source": [
    "import numpy as np\n",
    "import pandas as pd"
   ]
  },
  {
   "cell_type": "code",
   "execution_count": 225,
   "metadata": {},
   "outputs": [],
   "source": [
    "# Function to insert row in the dataframe # geeks\n",
    "def Insert_row(row_number, df, row_value): \n",
    "    # Starting value of upper half \n",
    "    start_upper = 0\n",
    "\n",
    "    # End value of upper half \n",
    "    end_upper = row_number \n",
    "    \n",
    "    # Start value of lower half \n",
    "    start_lower = row_number \n",
    "\n",
    "    # End value of lower half \n",
    "    end_lower = df.shape[0] \n",
    "\n",
    "    # Create a list of upper_half index \n",
    "    upper_half = [*range(start_upper, end_upper, 1)] \n",
    "\n",
    "    # Create a list of lower_half index \n",
    "    lower_half = [*range(start_lower, end_lower, 1)] \n",
    "\n",
    "    # Increment the value of lower half by 1 \n",
    "    lower_half = [x.__add__(1) for x in lower_half] \n",
    "\n",
    "    # Combine the two lists \n",
    "    index_ = upper_half + lower_half \n",
    "\n",
    "    # Update the index of the dataframe \n",
    "    df.index = index_ \n",
    "\n",
    "    # Insert a row at the end \n",
    "    df.loc[row_number] = row_value \n",
    "    \n",
    "    # Sort the index labels \n",
    "    df = df.sort_index() \n",
    "\n",
    "    # return the dataframe \n",
    "    return df "
   ]
  },
  {
   "cell_type": "code",
   "execution_count": 229,
   "metadata": {},
   "outputs": [],
   "source": [
    "df_cs = pd.read_csv('./data/all_county_state.csv')\n",
    "df = pd.read_csv('./data/allstates.csv')\n",
    "df = df.drop(columns='id')\n",
    "\n",
    "# Let's create a row which we want to insert \n",
    "row_number = 8\n",
    "row_value = 'District of Columbia' \n",
    "\n",
    "if row_number > df.index.max()+1: \n",
    "    print(\"Invalid row_number\") \n",
    "else: \n",
    "    \n",
    "    # Let's call the function and insert the row \n",
    "    # at the second position \n",
    "    df = Insert_row(row_number, df, row_value) \n",
    "\n",
    "    # Print the updated dataframe \n",
    "\n",
    "df['indx'] = [x+1 for x in list(range(50+1))]\n"
   ]
  },
  {
   "cell_type": "code",
   "execution_count": 230,
   "metadata": {},
   "outputs": [],
   "source": [
    "df_cs['link_1']=None\n",
    "df_cs['link_2']=None\n",
    "df_cs['2012']=None\n",
    "df_cs['2013']=None\n",
    "df_cs['2014']=None\n",
    "df_cs['2015']=None\n",
    "df_cs['2016']=None\n",
    "df_cs['2017']=None\n",
    "df_cs['2018']=None\n",
    "df_cs['2019']=None\n",
    "\n",
    "df_cs['2012_link']=None\n",
    "df_cs['2013_link']=None\n",
    "df_cs['2014_link']=None\n",
    "df_cs['2015_link']=None\n",
    "df_cs['2016_link']=None\n",
    "df_cs['2017_link']=None\n",
    "df_cs['2018_link']=None\n",
    "df_cs['2019_link']=None"
   ]
  },
  {
   "cell_type": "markdown",
   "metadata": {},
   "source": [
    "Data scraped from https://capcvet.org/maps/#2019/all/lyme-disease/dog/united-states/alabama/30-franklin-county/\n",
    "\n",
    "right-click and inspect "
   ]
  },
  {
   "cell_type": "code",
   "execution_count": 279,
   "metadata": {},
   "outputs": [],
   "source": [
    "df_cs['state_fips'] = df_cs['Stname'].apply(lambda x: df[df['name'] == x.replace(\" \", \"\")]['indx'].item())\n",
    "df_cs['county_fips'] = df_cs['CTYCODE'].apply(lambda x: str(x).zfill(3))"
   ]
  },
  {
   "cell_type": "code",
   "execution_count": 282,
   "metadata": {},
   "outputs": [],
   "source": [
    "responses1=[]\n",
    "responses2=[]\n",
    "\n",
    "for i in range(10): #\n",
    "    row = df_cs.iloc[i]\n",
    "    county = row['county_fips']\n",
    "    state = row['state_fips']\n",
    "    \n",
    "    link1 = 'https://maps.capcvet.org/v2/states/'+str(state)+'/county-by-fips/'+str(county)\n",
    "    df_cs['link_1'].loc[i] = link1 \n",
    "    api_response1 = requests.get(link1)\n",
    "    responses1.append(api_response1)\n",
    "    \n",
    "    if api_response1.status_code==200:\n",
    "        api_response1_dict = api_response1.json()\n",
    "        for year in range(2012,2020):\n",
    "            link2 = 'https://maps.capcvet.org/v2/results?disease=1&species=1&year='+str(year)+'&country=1&state='+str(state)+'&county='+str(api_response1_dict['data']['id'])\n",
    "            api_response2 = requests.get(link2)\n",
    "            df_cs[str(year)+'_link'].loc[i] = link2 \n",
    "            if api_response2.status_code==200:\n",
    "                responses2.append(api_response2.json())\n",
    "            else:\n",
    "                responses2.append([None])"
   ]
  },
  {
   "cell_type": "code",
   "execution_count": 303,
   "metadata": {},
   "outputs": [
    {
     "data": {
      "text/plain": [
       "'https://maps.capcvet.org/v2/states/1/county-by-fips/133'"
      ]
     },
     "execution_count": 303,
     "metadata": {},
     "output_type": "execute_result"
    }
   ],
   "source": [
    "df_cs['link_1'].values[66]\n"
   ]
  },
  {
   "cell_type": "code",
   "execution_count": 308,
   "metadata": {},
   "outputs": [
    {
     "data": {
      "text/plain": [
       "'https://maps.capcvet.org/v2/results?disease=1&species=1&year=2012&country=1&state=1&county=67'"
      ]
     },
     "execution_count": 308,
     "metadata": {},
     "output_type": "execute_result"
    }
   ],
   "source": [
    "df_cs['2012_link'].values[66]"
   ]
  },
  {
   "cell_type": "code",
   "execution_count": null,
   "metadata": {},
   "outputs": [],
   "source": [
    "if api_response2.status_code==200:\n",
    "                api_response2_dict = api_response2.json()\n",
    "            else:\n",
    "                df_cs[str(year)].loc[i] = np.nan"
   ]
  },
  {
   "cell_type": "code",
   "execution_count": 244,
   "metadata": {},
   "outputs": [
    {
     "data": {
      "text/plain": [
       "{'error': ['No results could be found']}"
      ]
     },
     "execution_count": 244,
     "metadata": {},
     "output_type": "execute_result"
    }
   ],
   "source": [
    "api_response2_dict"
   ]
  },
  {
   "cell_type": "code",
   "execution_count": 246,
   "metadata": {},
   "outputs": [],
   "source": [
    "df_cs.to_csv('data_dogs_counties_annual_lyme.csv')"
   ]
  },
  {
   "cell_type": "code",
   "execution_count": 204,
   "metadata": {},
   "outputs": [],
   "source": [
    "responses = []\n",
    "for ctycode in df_cs[df_cs['Stname']=='Alabama']['CTYCODE']: \n",
    "    if 10 <= ctycode<100:\n",
    "        link1 = 'https://maps.capcvet.org/v2/states/1/county-by-fips/0'+str(ctycode)\n",
    "    elif ctycode<10:\n",
    "        link1 = 'https://maps.capcvet.org/v2/states/1/county-by-fips/00'+str(ctycode)\n",
    "    else:\n",
    "        link1 = 'https://maps.capcvet.org/v2/states/1/county-by-fips/'+str(ctycode)\n",
    "    api_response1 = requests.get(link1)\n",
    "    responses.append(api_response1)"
   ]
  },
  {
   "cell_type": "code",
   "execution_count": 205,
   "metadata": {},
   "outputs": [],
   "source": [
    "new1 = [x for x in responses if x.status_code==200]"
   ]
  },
  {
   "cell_type": "code",
   "execution_count": 206,
   "metadata": {},
   "outputs": [],
   "source": [
    "new2 = [x for x in responses if x.status_code!=200]"
   ]
  },
  {
   "cell_type": "code",
   "execution_count": 212,
   "metadata": {},
   "outputs": [
    {
     "data": {
      "text/plain": [
       "0       1\n",
       "1       3\n",
       "2       5\n",
       "3       7\n",
       "4       9\n",
       "5      11\n",
       "6      13\n",
       "7      15\n",
       "8      17\n",
       "9      19\n",
       "10     21\n",
       "11     23\n",
       "12     25\n",
       "13     27\n",
       "14     29\n",
       "15     31\n",
       "16     33\n",
       "17     35\n",
       "18     37\n",
       "19     39\n",
       "20     41\n",
       "21     43\n",
       "22     45\n",
       "23     47\n",
       "24     49\n",
       "25     51\n",
       "26     53\n",
       "27     55\n",
       "28     57\n",
       "29     59\n",
       "     ... \n",
       "37     75\n",
       "38     77\n",
       "39     79\n",
       "40     81\n",
       "41     83\n",
       "42     85\n",
       "43     87\n",
       "44     89\n",
       "45     91\n",
       "46     93\n",
       "47     95\n",
       "48     97\n",
       "49     99\n",
       "50    101\n",
       "51    103\n",
       "52    105\n",
       "53    107\n",
       "54    109\n",
       "55    111\n",
       "56    113\n",
       "57    115\n",
       "58    117\n",
       "59    119\n",
       "60    121\n",
       "61    123\n",
       "62    125\n",
       "63    127\n",
       "64    129\n",
       "65    131\n",
       "66    133\n",
       "Name: CTYCODE, Length: 67, dtype: int64"
      ]
     },
     "execution_count": 212,
     "metadata": {},
     "output_type": "execute_result"
    }
   ],
   "source": [
    "df_cs[df_cs['Stname']=='Alabama']['CTYCODE']"
   ]
  },
  {
   "cell_type": "code",
   "execution_count": 215,
   "metadata": {},
   "outputs": [
    {
     "ename": "AttributeError",
     "evalue": "'DataFrame' object has no attribute 'sort'",
     "output_type": "error",
     "traceback": [
      "\u001b[0;31m---------------------------------------------------------------------------\u001b[0m",
      "\u001b[0;31mAttributeError\u001b[0m                            Traceback (most recent call last)",
      "\u001b[0;32m<ipython-input-215-cf41753252d3>\u001b[0m in \u001b[0;36m<module>\u001b[0;34m\u001b[0m\n\u001b[0;32m----> 1\u001b[0;31m \u001b[0mdf_cs\u001b[0m\u001b[0;34m.\u001b[0m\u001b[0msort\u001b[0m\u001b[0;34m(\u001b[0m\u001b[0;34m'Stname'\u001b[0m\u001b[0;34m)\u001b[0m\u001b[0;34m\u001b[0m\u001b[0m\n\u001b[0m",
      "\u001b[0;32m~/anaconda3/lib/python3.6/site-packages/pandas/core/generic.py\u001b[0m in \u001b[0;36m__getattr__\u001b[0;34m(self, name)\u001b[0m\n\u001b[1;32m   5065\u001b[0m             \u001b[0;32mif\u001b[0m \u001b[0mself\u001b[0m\u001b[0;34m.\u001b[0m\u001b[0m_info_axis\u001b[0m\u001b[0;34m.\u001b[0m\u001b[0m_can_hold_identifiers_and_holds_name\u001b[0m\u001b[0;34m(\u001b[0m\u001b[0mname\u001b[0m\u001b[0;34m)\u001b[0m\u001b[0;34m:\u001b[0m\u001b[0;34m\u001b[0m\u001b[0m\n\u001b[1;32m   5066\u001b[0m                 \u001b[0;32mreturn\u001b[0m \u001b[0mself\u001b[0m\u001b[0;34m[\u001b[0m\u001b[0mname\u001b[0m\u001b[0;34m]\u001b[0m\u001b[0;34m\u001b[0m\u001b[0m\n\u001b[0;32m-> 5067\u001b[0;31m             \u001b[0;32mreturn\u001b[0m \u001b[0mobject\u001b[0m\u001b[0;34m.\u001b[0m\u001b[0m__getattribute__\u001b[0m\u001b[0;34m(\u001b[0m\u001b[0mself\u001b[0m\u001b[0;34m,\u001b[0m \u001b[0mname\u001b[0m\u001b[0;34m)\u001b[0m\u001b[0;34m\u001b[0m\u001b[0m\n\u001b[0m\u001b[1;32m   5068\u001b[0m \u001b[0;34m\u001b[0m\u001b[0m\n\u001b[1;32m   5069\u001b[0m     \u001b[0;32mdef\u001b[0m \u001b[0m__setattr__\u001b[0m\u001b[0;34m(\u001b[0m\u001b[0mself\u001b[0m\u001b[0;34m,\u001b[0m \u001b[0mname\u001b[0m\u001b[0;34m,\u001b[0m \u001b[0mvalue\u001b[0m\u001b[0;34m)\u001b[0m\u001b[0;34m:\u001b[0m\u001b[0;34m\u001b[0m\u001b[0m\n",
      "\u001b[0;31mAttributeError\u001b[0m: 'DataFrame' object has no attribute 'sort'"
     ]
    }
   ],
   "source": [
    "df_cs.sort('Stname')"
   ]
  },
  {
   "cell_type": "code",
   "execution_count": 208,
   "metadata": {},
   "outputs": [
    {
     "data": {
      "text/plain": [
       "[<Response [403]>,\n",
       " <Response [403]>,\n",
       " <Response [403]>,\n",
       " <Response [200]>,\n",
       " <Response [200]>,\n",
       " <Response [403]>,\n",
       " <Response [403]>,\n",
       " <Response [403]>,\n",
       " <Response [403]>,\n",
       " <Response [200]>,\n",
       " <Response [403]>,\n",
       " <Response [403]>,\n",
       " <Response [200]>,\n",
       " <Response [200]>,\n",
       " <Response [403]>,\n",
       " <Response [403]>,\n",
       " <Response [200]>,\n",
       " <Response [403]>,\n",
       " <Response [200]>,\n",
       " <Response [403]>,\n",
       " <Response [200]>,\n",
       " <Response [200]>,\n",
       " <Response [403]>,\n",
       " <Response [200]>,\n",
       " <Response [200]>,\n",
       " <Response [403]>,\n",
       " <Response [403]>,\n",
       " <Response [200]>,\n",
       " <Response [403]>,\n",
       " <Response [403]>,\n",
       " <Response [403]>,\n",
       " <Response [403]>,\n",
       " <Response [403]>,\n",
       " <Response [403]>,\n",
       " <Response [403]>,\n",
       " <Response [403]>,\n",
       " <Response [200]>,\n",
       " <Response [403]>,\n",
       " <Response [200]>,\n",
       " <Response [200]>,\n",
       " <Response [403]>,\n",
       " <Response [200]>,\n",
       " <Response [403]>,\n",
       " <Response [403]>,\n",
       " <Response [200]>,\n",
       " <Response [403]>,\n",
       " <Response [403]>,\n",
       " <Response [200]>,\n",
       " <Response [200]>,\n",
       " <Response [200]>,\n",
       " <Response [403]>,\n",
       " <Response [200]>,\n",
       " <Response [200]>,\n",
       " <Response [403]>,\n",
       " <Response [403]>,\n",
       " <Response [403]>,\n",
       " <Response [403]>,\n",
       " <Response [200]>,\n",
       " <Response [200]>,\n",
       " <Response [403]>,\n",
       " <Response [200]>,\n",
       " <Response [403]>,\n",
       " <Response [200]>,\n",
       " <Response [200]>,\n",
       " <Response [403]>,\n",
       " <Response [403]>,\n",
       " <Response [200]>]"
      ]
     },
     "execution_count": 208,
     "metadata": {},
     "output_type": "execute_result"
    }
   ],
   "source": [
    "responses[]"
   ]
  },
  {
   "cell_type": "code",
   "execution_count": 207,
   "metadata": {},
   "outputs": [
    {
     "data": {
      "text/plain": [
       "(28, 39)"
      ]
     },
     "execution_count": 207,
     "metadata": {},
     "output_type": "execute_result"
    }
   ],
   "source": [
    "len(new1),len(new2)"
   ]
  },
  {
   "cell_type": "code",
   "execution_count": 201,
   "metadata": {},
   "outputs": [
    {
     "data": {
      "text/plain": [
       "[{'data': {'id': 10,\n",
       "   'name': 'Cherokee County',\n",
       "   'abbrv': None,\n",
       "   'fips': '019',\n",
       "   'links': [{'rel': 'self',\n",
       "     'state': '/v2/states/1',\n",
       "     'uri': '/v2/counties/10'}],\n",
       "   'meta': {'state': 'Alabama'}}},\n",
       " {'data': {'id': 13,\n",
       "   'name': 'Clarke County',\n",
       "   'abbrv': None,\n",
       "   'fips': '025',\n",
       "   'links': [{'rel': 'self',\n",
       "     'state': '/v2/states/1',\n",
       "     'uri': '/v2/counties/13'}],\n",
       "   'meta': {'state': 'Alabama'}}},\n",
       " {'data': {'id': 14,\n",
       "   'name': 'Clay County',\n",
       "   'abbrv': None,\n",
       "   'fips': '027',\n",
       "   'links': [{'rel': 'self',\n",
       "     'state': '/v2/states/1',\n",
       "     'uri': '/v2/counties/14'}],\n",
       "   'meta': {'state': 'Alabama'}}},\n",
       " {'data': {'id': 17,\n",
       "   'name': 'Colbert County',\n",
       "   'abbrv': None,\n",
       "   'fips': '033',\n",
       "   'links': [{'rel': 'self',\n",
       "     'state': '/v2/states/1',\n",
       "     'uri': '/v2/counties/17'}],\n",
       "   'meta': {'state': 'Alabama'}}},\n",
       " {'data': {'id': 19,\n",
       "   'name': 'Coosa County',\n",
       "   'abbrv': None,\n",
       "   'fips': '037',\n",
       "   'links': [{'rel': 'self',\n",
       "     'state': '/v2/states/1',\n",
       "     'uri': '/v2/counties/19'}],\n",
       "   'meta': {'state': 'Alabama'}}},\n",
       " {'data': {'id': 21,\n",
       "   'name': 'Crenshaw County',\n",
       "   'abbrv': None,\n",
       "   'fips': '041',\n",
       "   'links': [{'rel': 'self',\n",
       "     'state': '/v2/states/1',\n",
       "     'uri': '/v2/counties/21'}],\n",
       "   'meta': {'state': 'Alabama'}}},\n",
       " {'data': {'id': 22,\n",
       "   'name': 'Cullman County',\n",
       "   'abbrv': None,\n",
       "   'fips': '043',\n",
       "   'links': [{'rel': 'self',\n",
       "     'state': '/v2/states/1',\n",
       "     'uri': '/v2/counties/22'}],\n",
       "   'meta': {'state': 'Alabama'}}},\n",
       " {'data': {'id': 28,\n",
       "   'name': 'Etowah County',\n",
       "   'abbrv': None,\n",
       "   'fips': '055',\n",
       "   'links': [{'rel': 'self',\n",
       "     'state': '/v2/states/1',\n",
       "     'uri': '/v2/counties/28'}],\n",
       "   'meta': {'state': 'Alabama'}}},\n",
       " {'data': {'id': 37,\n",
       "   'name': 'Jefferson County',\n",
       "   'abbrv': None,\n",
       "   'fips': '073',\n",
       "   'links': [{'rel': 'self',\n",
       "     'state': '/v2/states/1',\n",
       "     'uri': '/v2/counties/37'}],\n",
       "   'meta': {'state': 'Alabama'}}},\n",
       " {'data': {'id': 39,\n",
       "   'name': 'Lauderdale County',\n",
       "   'abbrv': None,\n",
       "   'fips': '077',\n",
       "   'links': [{'rel': 'self',\n",
       "     'state': '/v2/states/1',\n",
       "     'uri': '/v2/counties/39'}],\n",
       "   'meta': {'state': 'Alabama'}}},\n",
       " {'data': {'id': 40,\n",
       "   'name': 'Lawrence County',\n",
       "   'abbrv': None,\n",
       "   'fips': '079',\n",
       "   'links': [{'rel': 'self',\n",
       "     'state': '/v2/states/1',\n",
       "     'uri': '/v2/counties/40'}],\n",
       "   'meta': {'state': 'Alabama'}}},\n",
       " {'data': {'id': 42,\n",
       "   'name': 'Limestone County',\n",
       "   'abbrv': None,\n",
       "   'fips': '083',\n",
       "   'links': [{'rel': 'self',\n",
       "     'state': '/v2/states/1',\n",
       "     'uri': '/v2/counties/42'}],\n",
       "   'meta': {'state': 'Alabama'}}},\n",
       " {'data': {'id': 45,\n",
       "   'name': 'Madison County',\n",
       "   'abbrv': None,\n",
       "   'fips': '089',\n",
       "   'links': [{'rel': 'self',\n",
       "     'state': '/v2/states/1',\n",
       "     'uri': '/v2/counties/45'}],\n",
       "   'meta': {'state': 'Alabama'}}},\n",
       " {'data': {'id': 48,\n",
       "   'name': 'Marshall County',\n",
       "   'abbrv': None,\n",
       "   'fips': '095',\n",
       "   'links': [{'rel': 'self',\n",
       "     'state': '/v2/states/1',\n",
       "     'uri': '/v2/counties/48'}],\n",
       "   'meta': {'state': 'Alabama'}}},\n",
       " {'data': {'id': 49,\n",
       "   'name': 'Mobile County',\n",
       "   'abbrv': None,\n",
       "   'fips': '097',\n",
       "   'links': [{'rel': 'self',\n",
       "     'state': '/v2/states/1',\n",
       "     'uri': '/v2/counties/49'}],\n",
       "   'meta': {'state': 'Alabama'}}},\n",
       " {'data': {'id': 50,\n",
       "   'name': 'Monroe County',\n",
       "   'abbrv': None,\n",
       "   'fips': '099',\n",
       "   'links': [{'rel': 'self',\n",
       "     'state': '/v2/states/1',\n",
       "     'uri': '/v2/counties/50'}],\n",
       "   'meta': {'state': 'Alabama'}}},\n",
       " {'data': {'id': 52,\n",
       "   'name': 'Morgan County',\n",
       "   'abbrv': None,\n",
       "   'fips': '103',\n",
       "   'links': [{'rel': 'self',\n",
       "     'state': '/v2/states/1',\n",
       "     'uri': '/v2/counties/52'}],\n",
       "   'meta': {'state': 'Alabama'}}},\n",
       " {'data': {'id': 53,\n",
       "   'name': 'Perry County',\n",
       "   'abbrv': None,\n",
       "   'fips': '105',\n",
       "   'links': [{'rel': 'self',\n",
       "     'state': '/v2/states/1',\n",
       "     'uri': '/v2/counties/53'}],\n",
       "   'meta': {'state': 'Alabama'}}},\n",
       " {'data': {'id': 58,\n",
       "   'name': 'St. Clair County',\n",
       "   'abbrv': None,\n",
       "   'fips': '115',\n",
       "   'links': [{'rel': 'self',\n",
       "     'state': '/v2/states/1',\n",
       "     'uri': '/v2/counties/58'}],\n",
       "   'meta': {'state': 'Alabama'}}},\n",
       " {'data': {'id': 59,\n",
       "   'name': 'Shelby County',\n",
       "   'abbrv': None,\n",
       "   'fips': '117',\n",
       "   'links': [{'rel': 'self',\n",
       "     'state': '/v2/states/1',\n",
       "     'uri': '/v2/counties/59'}],\n",
       "   'meta': {'state': 'Alabama'}}},\n",
       " {'data': {'id': 61,\n",
       "   'name': 'Talladega County',\n",
       "   'abbrv': None,\n",
       "   'fips': '121',\n",
       "   'links': [{'rel': 'self',\n",
       "     'state': '/v2/states/1',\n",
       "     'uri': '/v2/counties/61'}],\n",
       "   'meta': {'state': 'Alabama'}}},\n",
       " {'data': {'id': 63,\n",
       "   'name': 'Tuscaloosa County',\n",
       "   'abbrv': None,\n",
       "   'fips': '125',\n",
       "   'links': [{'rel': 'self',\n",
       "     'state': '/v2/states/1',\n",
       "     'uri': '/v2/counties/63'}],\n",
       "   'meta': {'state': 'Alabama'}}},\n",
       " {'data': {'id': 64,\n",
       "   'name': 'Walker County',\n",
       "   'abbrv': None,\n",
       "   'fips': '127',\n",
       "   'links': [{'rel': 'self',\n",
       "     'state': '/v2/states/1',\n",
       "     'uri': '/v2/counties/64'}],\n",
       "   'meta': {'state': 'Alabama'}}},\n",
       " {'data': {'id': 67,\n",
       "   'name': 'Winston County',\n",
       "   'abbrv': None,\n",
       "   'fips': '133',\n",
       "   'links': [{'rel': 'self',\n",
       "     'state': '/v2/states/1',\n",
       "     'uri': '/v2/counties/67'}],\n",
       "   'meta': {'state': 'Alabama'}}}]"
      ]
     },
     "execution_count": 201,
     "metadata": {},
     "output_type": "execute_result"
    }
   ],
   "source": [
    "[x.json() for x in new1]"
   ]
  },
  {
   "cell_type": "code",
   "execution_count": 198,
   "metadata": {},
   "outputs": [
    {
     "data": {
      "text/plain": [
       "43"
      ]
     },
     "execution_count": 198,
     "metadata": {},
     "output_type": "execute_result"
    }
   ],
   "source": [
    "len(new2)"
   ]
  },
  {
   "cell_type": "code",
   "execution_count": 183,
   "metadata": {},
   "outputs": [
    {
     "data": {
      "text/plain": [
       "8"
      ]
     },
     "execution_count": 183,
     "metadata": {},
     "output_type": "execute_result"
    }
   ],
   "source": [
    "len(new1)"
   ]
  },
  {
   "cell_type": "code",
   "execution_count": 184,
   "metadata": {},
   "outputs": [
    {
     "data": {
      "text/plain": [
       "59"
      ]
     },
     "execution_count": 184,
     "metadata": {},
     "output_type": "execute_result"
    }
   ],
   "source": [
    "len(new2)"
   ]
  },
  {
   "cell_type": "code",
   "execution_count": 3,
   "metadata": {},
   "outputs": [],
   "source": [
    "import requests "
   ]
  },
  {
   "cell_type": "code",
   "execution_count": 97,
   "metadata": {},
   "outputs": [],
   "source": [
    "link = 'https://maps.capcvet.org/v2/results?disease=1&species=1&year=2019&country=1&state=26&county=1497'\n",
    "link = 'https://maps.capcvet.org/v2/results?disease=1&species=1&year=2019&country=1&state=1&county=64'\n",
    "\n",
    "#link = 'https://maps.capcvet.org/v2/states/1/county-by-fips/127'\n",
    "#link = 'https://maps.capcvet.org/v2/states/18/county-by-fips/137'\n",
    "api_response = requests.get(link)\n",
    "\n",
    "api_response_dict = api_response.json()\n"
   ]
  },
  {
   "cell_type": "code",
   "execution_count": 102,
   "metadata": {},
   "outputs": [
    {
     "data": {
      "text/plain": [
       "(1, 152)"
      ]
     },
     "execution_count": 102,
     "metadata": {},
     "output_type": "execute_result"
    }
   ],
   "source": []
  },
  {
   "cell_type": "code",
   "execution_count": 96,
   "metadata": {},
   "outputs": [
    {
     "data": {
      "text/plain": [
       "'/v2/counties/1062'"
      ]
     },
     "execution_count": 96,
     "metadata": {},
     "output_type": "execute_result"
    }
   ],
   "source": [
    "api_response_dict['data']['links'][0]['uri']"
   ]
  },
  {
   "cell_type": "code",
   "execution_count": 82,
   "metadata": {},
   "outputs": [
    {
     "ename": "KeyError",
     "evalue": "'data'",
     "output_type": "error",
     "traceback": [
      "\u001b[0;31m---------------------------------------------------------------------------\u001b[0m",
      "\u001b[0;31mKeyError\u001b[0m                                  Traceback (most recent call last)",
      "\u001b[0;32m<ipython-input-82-80658209bc26>\u001b[0m in \u001b[0;36m<module>\u001b[0;34m\u001b[0m\n\u001b[1;32m      3\u001b[0m \u001b[0mapi_response\u001b[0m \u001b[0;34m=\u001b[0m \u001b[0mrequests\u001b[0m\u001b[0;34m.\u001b[0m\u001b[0mget\u001b[0m\u001b[0;34m(\u001b[0m\u001b[0mlink\u001b[0m\u001b[0;34m)\u001b[0m\u001b[0;34m\u001b[0m\u001b[0m\n\u001b[1;32m      4\u001b[0m \u001b[0mapi_response_dict\u001b[0m \u001b[0;34m=\u001b[0m \u001b[0mapi_response\u001b[0m\u001b[0;34m.\u001b[0m\u001b[0mjson\u001b[0m\u001b[0;34m(\u001b[0m\u001b[0;34m)\u001b[0m\u001b[0;34m\u001b[0m\u001b[0m\n\u001b[0;32m----> 5\u001b[0;31m \u001b[0mapi_response_dict\u001b[0m\u001b[0;34m[\u001b[0m\u001b[0;34m'data'\u001b[0m\u001b[0;34m]\u001b[0m\u001b[0;34m[\u001b[0m\u001b[0;34m'id'\u001b[0m\u001b[0;34m]\u001b[0m\u001b[0;34m\u001b[0m\u001b[0m\n\u001b[0m",
      "\u001b[0;31mKeyError\u001b[0m: 'data'"
     ]
    }
   ],
   "source": [
    "link = 'https://maps.capcvet.org/v2/states/'+str(state_code)+'/county-by-fips/'+str(county_code)\n",
    "\n",
    "api_response = requests.get(link)\n",
    "api_response_dict = api_response.json()\n",
    "api_response_dict['data']['id']"
   ]
  },
  {
   "cell_type": "code",
   "execution_count": null,
   "metadata": {},
   "outputs": [],
   "source": [
    "hawaii and alaska"
   ]
  },
  {
   "cell_type": "raw",
   "metadata": {},
   "source": []
  },
  {
   "cell_type": "code",
   "execution_count": 15,
   "metadata": {},
   "outputs": [
    {
     "ename": "SyntaxError",
     "evalue": "invalid syntax (<ipython-input-15-c9968969b6a8>, line 1)",
     "output_type": "error",
     "traceback": [
      "\u001b[0;36m  File \u001b[0;32m\"<ipython-input-15-c9968969b6a8>\"\u001b[0;36m, line \u001b[0;32m1\u001b[0m\n\u001b[0;31m    get all the data from this.\u001b[0m\n\u001b[0m          ^\u001b[0m\n\u001b[0;31mSyntaxError\u001b[0m\u001b[0;31m:\u001b[0m invalid syntax\n"
     ]
    }
   ],
   "source": [
    "get all the data from this. "
   ]
  },
  {
   "cell_type": "code",
   "execution_count": 14,
   "metadata": {},
   "outputs": [
    {
     "ename": "SyntaxError",
     "evalue": "invalid syntax (<ipython-input-14-61863cbb5fcf>, line 1)",
     "output_type": "error",
     "traceback": [
      "\u001b[0;36m  File \u001b[0;32m\"<ipython-input-14-61863cbb5fcf>\"\u001b[0;36m, line \u001b[0;32m1\u001b[0m\n\u001b[0;31m    arizona is 3, wyoming is 51 , kentucky is 18 , florida is 10, delaware is 8. district of columbia is 9.\u001b[0m\n\u001b[0m                                                                                        ^\u001b[0m\n\u001b[0;31mSyntaxError\u001b[0m\u001b[0;31m:\u001b[0m invalid syntax\n"
     ]
    }
   ],
   "source": [
    "arizona is 3, wyoming is 51 , kentucky is 18 , florida is 10, delaware is 8. district of columbia is 9. "
   ]
  },
  {
   "cell_type": "code",
   "execution_count": null,
   "metadata": {},
   "outputs": [],
   "source": [
    "link = 'https://maps.capcvet.org/v2/states/1/county-by-fips/127'\n",
    "link = 'https://maps.capcvet.org/v2/states/1/county-by-fips/007'"
   ]
  },
  {
   "cell_type": "code",
   "execution_count": 12,
   "metadata": {},
   "outputs": [
    {
     "data": {
      "text/plain": [
       "{'data': {'id': 64,\n",
       "  'name': 'Walker County',\n",
       "  'abbrv': None,\n",
       "  'fips': '127',\n",
       "  'links': [{'rel': 'self',\n",
       "    'state': '/v2/states/1',\n",
       "    'uri': '/v2/counties/64'}],\n",
       "  'meta': {'state': 'Alabama'}}}"
      ]
     },
     "execution_count": 12,
     "metadata": {},
     "output_type": "execute_result"
    }
   ],
   "source": [
    "api_response_dict"
   ]
  },
  {
   "cell_type": "code",
   "execution_count": null,
   "metadata": {},
   "outputs": [],
   "source": [
    "{\"data\":{\"params\":{\"county\":\"1497\",\"country\":\"1\",\"month\":null,\"province\":null,\"state\":\"26\",\"year\":\"2019\",\"species\":1,\"disease\":1},\"stats\":{\"positive\":2,\"tested\":228,\"risk\":\"medium\",\"percentage\":0.88,\"ratio\":{\"is\":1,\"of\":114}},\"thresholds\":{\"high\":5,\"medium\":0.5}}}\n"
   ]
  },
  {
   "cell_type": "code",
   "execution_count": null,
   "metadata": {},
   "outputs": [],
   "source": [
    "X = np.array([[1, 1], [1, 2], [2, 2], [2, 3]])\n",
    "# y = 1 * x_0 + 2 * x_1 + 3\n",
    "y = np.dot(X, np.array([1, 2])) + 3\n",
    "reg = LinearRegression().fit(X, y)\n",
    "reg.score(X, y)\n",
    "1.0\n",
    ">>> reg.coef_\n",
    "array([1., 2.])\n",
    ">>> reg.intercept_ \n",
    "3.0000...\n",
    ">>> reg.predict(np.array([[3, 5]]))\n",
    "array([16.])\n"
   ]
  },
  {
   "cell_type": "code",
   "execution_count": null,
   "metadata": {},
   "outputs": [],
   "source": [
    "# do a basic linear regression first \n",
    "# then run TPOT "
   ]
  }
 ],
 "metadata": {
  "kernelspec": {
   "display_name": "Python 3",
   "language": "python",
   "name": "python3"
  },
  "language_info": {
   "codemirror_mode": {
    "name": "ipython",
    "version": 3
   },
   "file_extension": ".py",
   "mimetype": "text/x-python",
   "name": "python",
   "nbconvert_exporter": "python",
   "pygments_lexer": "ipython3",
   "version": "3.6.6"
  }
 },
 "nbformat": 4,
 "nbformat_minor": 2
}
